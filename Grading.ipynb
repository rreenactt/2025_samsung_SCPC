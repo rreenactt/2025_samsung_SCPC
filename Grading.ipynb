{
 "cells": [
  {
   "cell_type": "code",
   "execution_count": null,
   "id": "fef6422a",
   "metadata": {
    "vscode": {
     "languageId": "plaintext"
    }
   },
   "outputs": [],
   "source": [
    "!pip install --quiet --upgrade openai tqdm pillow pandas"
   ]
  },
  {
   "cell_type": "code",
   "execution_count": null,
   "id": "611a1194",
   "metadata": {
    "vscode": {
     "languageId": "plaintext"
    }
   },
   "outputs": [],
   "source": [
    "import pandas as pd\n",
    "\n",
    "# ▶ 파일 경로 지정\n",
    "SUB_CSV = \"submission.csv\"   # 내 모델 예측\n",
    "GPT_CSV = \"gpt_300.csv\"      # GPT‑Vision이 만든 의사 정답\n",
    "\n",
    "# 1️⃣ CSV 읽기\n",
    "sub = pd.read_csv(SUB_CSV)\n",
    "gpt = pd.read_csv(GPT_CSV)\n",
    "\n",
    "# 2️⃣ ID 기준 병합\n",
    "merged = gpt.merge(sub, on=\"ID\", how=\"inner\", suffixes=(\"_true\", \"_pred\"))\n",
    "\n",
    "# 3️⃣ 누락·중복 체크\n",
    "if len(sub) != len(sub[\"ID\"].unique()):\n",
    "    raise ValueError(\"❌ submission.csv 에 중복 ID가 있습니다.\")\n",
    "if merged.isna().any().any():\n",
    "    missing = set(gpt[\"ID\"]) - set(sub[\"ID\"])\n",
    "    raise ValueError(f\"❌ submission.csv 에 없는 ID가 {len(missing)}개 있습니다: {list(missing)[:5]}\")\n",
    "\n",
    "# 4️⃣ 정확도 계산\n",
    "acc = (merged[\"answer_true\"] == merged[\"answer_pred\"]).mean()\n",
    "print(f\"🎯 GPT 라벨 기준 accuracy = {acc:.4f}  ({int(acc*100)}%)\")"
   ]
  }
 ],
 "metadata": {
  "language_info": {
   "name": "python"
  }
 },
 "nbformat": 4,
 "nbformat_minor": 5
}
